{
 "cells": [
  {
   "cell_type": "code",
   "execution_count": 1,
   "metadata": {},
   "outputs": [],
   "source": [
    "from selenium import webdriver\n",
    "from selenium.webdriver.common.by import By\n",
    "from selenium.webdriver.support import expected_conditions as EC\n",
    "from selenium.webdriver.support.wait import WebDriverWait\n",
    "from selenium.common.exceptions import NoSuchElementException\n",
    "from webdriver_manager.chrome import ChromeDriverManager\n",
    "import time, threading, re, os\n",
    "import warnings\n",
    "warnings.filterwarnings(\"ignore\")"
   ]
  },
  {
   "cell_type": "code",
   "execution_count": 2,
   "metadata": {},
   "outputs": [
    {
     "name": "stderr",
     "output_type": "stream",
     "text": [
      "[WDM] - Current google-chrome version is 87.0.4280\n",
      "[WDM] - Get LATEST driver version for 87.0.4280\n"
     ]
    },
    {
     "name": "stdout",
     "output_type": "stream",
     "text": [
      " \n"
     ]
    },
    {
     "name": "stderr",
     "output_type": "stream",
     "text": [
      "[WDM] - Driver [C:\\Users\\92859\\.wdm\\drivers\\chromedriver\\win32\\87.0.4280.88\\chromedriver.exe] found in cache\n"
     ]
    }
   ],
   "source": [
    "username='15099551581'\n",
    "password='Zhh928592395'\n",
    "url=\"https://passport.zhihuishu.com/login?service=https%3A%2F%2Fcreditqa-web.zhihuishu.com%2FshareCourse%2FqaAnswerIndexPage%3FsourceType%3D2%26courseId%3D2099666%26recruitId%3D33728\"\n",
    "chrome_options = webdriver.ChromeOptions()\n",
    "dr = webdriver.Chrome(ChromeDriverManager().install(),options=chrome_options)\n",
    "dr.get(url)\n",
    "time.sleep(3)\n",
    "dr.find_element_by_name('username').send_keys(username)\n",
    "dr.find_element_by_name('password').send_keys(password)\n",
    "dr.find_element_by_class_name('wall-sub-btn').click()\n",
    "time.sleep(5)"
   ]
  },
  {
   "cell_type": "code",
   "execution_count": 3,
   "metadata": {},
   "outputs": [],
   "source": [
    "for i in range(20):\n",
    "    js = \"window.scrollTo(0,document.body.scrollHeight)\"\n",
    "    dr.execute_script(js)\n",
    "    time.sleep(3)"
   ]
  },
  {
   "cell_type": "code",
   "execution_count": 4,
   "metadata": {},
   "outputs": [],
   "source": [
    "element_list=dr.find_elements_by_class_name(\"qa_topic_title\")\n",
    "id_list=[element.get_attribute('data-question-id') for element in element_list]\n",
    "id_list=list(filter(None,id_list))"
   ]
  },
  {
   "cell_type": "code",
   "execution_count": 7,
   "metadata": {},
   "outputs": [],
   "source": [
    "for i in range(159,len(id_list)):\n",
    "    question='https://creditqa-web.zhihuishu.com/shareCourse/questionDetailPage?sourceType=2&qid='+id_list[i]\n",
    "    dr.get(question)\n",
    "    dr.implicitly_wait(10)\n",
    "    answer_button=dr.find_elements_by_id(\"show_answer_1\")[0]\n",
    "    if answer_button.get_attribute('style')=='display: none;':\n",
    "        continue\n",
    "    else: \n",
    "        answer=dr.find_element_by_class_name('item-text').text\n",
    "        dr.find_elements_by_id(\"show_answer_1\")[0].click()\n",
    "        dr.find_element_by_class_name('my-ans-textarea').send_keys(answer)\n",
    "        dr.find_element_by_class_name('com-btn-re').click()\n",
    "        dr.implicitly_wait(2)"
   ]
  },
  {
   "cell_type": "code",
   "execution_count": 6,
   "metadata": {},
   "outputs": [
    {
     "data": {
      "text/plain": [
       "159"
      ]
     },
     "execution_count": 6,
     "metadata": {},
     "output_type": "execute_result"
    }
   ],
   "source": [
    "id_list.index('404290926')"
   ]
  },
  {
   "cell_type": "code",
   "execution_count": null,
   "metadata": {},
   "outputs": [],
   "source": []
  }
 ],
 "metadata": {
  "kernelspec": {
   "display_name": "Python 3",
   "language": "python",
   "name": "python3"
  },
  "language_info": {
   "codemirror_mode": {
    "name": "ipython",
    "version": 3
   },
   "file_extension": ".py",
   "mimetype": "text/x-python",
   "name": "python",
   "nbconvert_exporter": "python",
   "pygments_lexer": "ipython3",
   "version": "3.8.1"
  }
 },
 "nbformat": 4,
 "nbformat_minor": 4
}
