{
 "cells": [
  {
   "cell_type": "code",
   "execution_count": null,
   "metadata": {},
   "outputs": [],
   "source": [
    "# default_exp Voutput"
   ]
  },
  {
   "cell_type": "markdown",
   "metadata": {},
   "source": [
    "## 基础信息：\n",
    "**模块名称：Voutput\n",
    "模块用途：将DataFrame\\SimpleTable\\Summary等格式数据输出为Latex文档或CSV文件\n",
    "底层依赖库：pandas, numpy, statsmodels, os**"
   ]
  },
  {
   "cell_type": "markdown",
   "metadata": {},
   "source": [
    "## 载入依赖模块："
   ]
  },
  {
   "cell_type": "markdown",
   "metadata": {},
   "source": [
    "**以下为Voutput模块所需：**"
   ]
  },
  {
   "cell_type": "code",
   "execution_count": 1,
   "metadata": {},
   "outputs": [],
   "source": [
    "import pandas\n",
    "import numpy\n",
    "import statsmodels.api\n",
    "import os"
   ]
  },
  {
   "cell_type": "markdown",
   "metadata": {},
   "source": [
    "**以下为生成测试数据所需：**"
   ]
  },
  {
   "cell_type": "code",
   "execution_count": 2,
   "metadata": {},
   "outputs": [],
   "source": [
    "import scipy.sparse as sparse\n",
    "import statsmodels.api as sm\n",
    "import statsmodels.stats.diagnostic\n",
    "import matplotlib.pyplot as plt\n",
    "from statsmodels.tsa.stattools import adfuller\n",
    "from statsmodels.tsa.stattools import coint\n",
    "from statsmodels.stats.outliers_influence import variance_inflation_factor\n",
    "from statsmodels.tsa.vector_ar.vecm import coint_johansen"
   ]
  },
  {
   "cell_type": "markdown",
   "metadata": {},
   "source": [
    "***"
   ]
  },
  {
   "cell_type": "markdown",
   "metadata": {},
   "source": [
    "## 生成测试数据："
   ]
  },
  {
   "cell_type": "code",
   "execution_count": 10,
   "metadata": {},
   "outputs": [],
   "source": [
    "raw_df= pandas.read_csv(\n",
    "    \"./data/df_japan.csv\",\n",
    "    header=None,\n",
    "    encoding=\"gbk\",\n",
    "    names=[\"time\", \"none\", \"catagory\", \"title\", \"content\"],)\n",
    "time_column = pandas.to_datetime(raw_df['time']).dt.to_period(\"M\").dt.to_timestamp()\n",
    "lda_score = pandas.read_csv(\"./data/lda_7.csv\")"
   ]
  },
  {
   "cell_type": "code",
   "execution_count": 11,
   "metadata": {},
   "outputs": [],
   "source": [
    "new_col=[\"中日双边合作\",\n",
    "    \"中美经贸带动世界经济发展\",\n",
    "    \"中国社会发展\",\n",
    "    \"中日企业合作\",\n",
    "    \"中日历史与抗战认识问题\",\n",
    "    \"世界和平和国际安全\",\n",
    "    \"中国参加奥运会\"]\n",
    "mid_df = pandas.concat([time_column, lda_score], axis=1).groupby(['time']).agg('mean')\n",
    "mid_df.columns=new_col\n",
    "fin_df=mid_df.drop([\"中国参加奥运会\"],axis=1)"
   ]
  },
  {
   "cell_type": "code",
   "execution_count": 14,
   "metadata": {},
   "outputs": [],
   "source": [
    "#ADF检验\n",
    "t_list = []\n",
    "name_list = []\n",
    "p_list = []\n",
    "for i in fin_df.columns:\n",
    "    name_list.append(i)\n",
    "    test_output = list(adfuller(fin_df.loc[:,i]))\n",
    "    t_list.append(test_output[0])\n",
    "    p_list.append(test_output[1])  \n",
    "adf1_df=pandas.DataFrame({'name': name_list, 't_value': t_list, 'p_value': p_list})"
   ]
  },
  {
   "cell_type": "code",
   "execution_count": 15,
   "metadata": {},
   "outputs": [],
   "source": [
    "#一阶差分后ADF\n",
    "diff_fin_df=fin_df.drop([\"中日历史与抗战认识问题\"],axis=1).diff(periods=1).dropna()\n",
    "t_list1 = []\n",
    "name_list1 = []\n",
    "p_list1 = []\n",
    "for i in diff_fin_df.columns:\n",
    "    name_list1.append(i)\n",
    "    test_output = list(adfuller(diff_fin_df.loc[:, i]))\n",
    "    t_list1.append(test_output[0])\n",
    "    p_list1.append(test_output[1])\n",
    "adf2_df=pandas.DataFrame({'name': name_list1, 't_value': t_list1, 'p_value': p_list1})"
   ]
  },
  {
   "cell_type": "code",
   "execution_count": 22,
   "metadata": {},
   "outputs": [],
   "source": [
    "#export\n",
    "#OLS相关\n",
    "def ols(x,y):\n",
    "    est=sm.OLS(y,sm.add_constant(x)).fit()\n",
    "    return est.summary()"
   ]
  },
  {
   "cell_type": "code",
   "execution_count": 32,
   "metadata": {},
   "outputs": [
    {
     "name": "stderr",
     "output_type": "stream",
     "text": [
      "c:\\users\\92859\\appdata\\local\\programs\\python\\python38\\lib\\site-packages\\statsmodels\\tsa\\base\\tsa_model.py:524: ValueWarning: No frequency information was provided, so inferred frequency MS will be used.\n",
      "  warnings.warn('No frequency information was'\n"
     ]
    }
   ],
   "source": [
    "#VAR相关\n",
    "var_df=fin_df.shift(periods=3).dropna()\n",
    "var_mod = sm.tsa.VAR(var_df.loc[\"1946-08-01\":]).fit( ic='aic')\n",
    "ic=var_mod.model.select_order().summary()"
   ]
  },
  {
   "cell_type": "code",
   "execution_count": 35,
   "metadata": {},
   "outputs": [],
   "source": [
    "#irf相关\n",
    "irf = var_mod.irf(24)# 24期"
   ]
  },
  {
   "cell_type": "code",
   "execution_count": 37,
   "metadata": {},
   "outputs": [
    {
     "name": "stderr",
     "output_type": "stream",
     "text": [
      "c:\\users\\92859\\appdata\\local\\programs\\python\\python38\\lib\\site-packages\\statsmodels\\tsa\\base\\tsa_model.py:524: ValueWarning: No frequency information was provided, so inferred frequency MS will be used.\n",
      "  warnings.warn('No frequency information was'\n"
     ]
    }
   ],
   "source": [
    "#vecm相关\n",
    "vecm_mod=sm.tsa.VECM(var_df.loc[\"1946-08-01\":]).fit()"
   ]
  },
  {
   "cell_type": "code",
   "execution_count": 50,
   "metadata": {},
   "outputs": [],
   "source": [
    "#fevd相关\n",
    "fevd=var_mod.fevd(24)"
   ]
  },
  {
   "cell_type": "markdown",
   "metadata": {},
   "source": [
    "***"
   ]
  },
  {
   "cell_type": "markdown",
   "metadata": {},
   "source": [
    "## 模块内容："
   ]
  },
  {
   "cell_type": "markdown",
   "metadata": {},
   "source": [
    "#### 0. 公共函数 `Voutput.ispath_exist(path)`:\n",
    "判断输出文件路径是否存在："
   ]
  },
  {
   "cell_type": "code",
   "execution_count": 3,
   "metadata": {},
   "outputs": [],
   "source": [
    "def ispath_exist(path):\n",
    "    isExists=os.path.exists(path)\n",
    "    if not isExists:\n",
    "        os.makedirs(path)"
   ]
  },
  {
   "cell_type": "markdown",
   "metadata": {},
   "source": [
    "***"
   ]
  },
  {
   "cell_type": "markdown",
   "metadata": {},
   "source": [
    " #### 1. （函数方法）`Voutput.df2csv(DataFrame, Filename)`:\n",
    "**参数：** \n",
    "**DataFrame：** 输入数据应为DataFrame格式，可使用type()方法判断\n",
    "**Filename：** 可以包含路径，不可包含后缀\n",
    "\n",
    "**输出：** 单独的CSV文件"
   ]
  },
  {
   "cell_type": "code",
   "execution_count": 17,
   "metadata": {},
   "outputs": [],
   "source": [
    "# 输入数据应为DataFrame格式\n",
    "def df2csv(df,filename):    #通用函数，输出pd至csv\n",
    "    ispath_exist('./output')\n",
    "    df.to_csv(filename+'.csv',encoding='utf_8_sig')    #解决输出中文乱码"
   ]
  },
  {
   "cell_type": "markdown",
   "metadata": {},
   "source": [
    "**演示**："
   ]
  },
  {
   "cell_type": "code",
   "execution_count": 40,
   "metadata": {},
   "outputs": [
    {
     "data": {
      "text/plain": [
       "pandas.core.frame.DataFrame"
      ]
     },
     "execution_count": 40,
     "metadata": {},
     "output_type": "execute_result"
    }
   ],
   "source": [
    "type(adf1_df)"
   ]
  },
  {
   "cell_type": "code",
   "execution_count": 18,
   "metadata": {},
   "outputs": [],
   "source": [
    "df2csv(adf1_df,'./output/original ADF')\n",
    "df2csv(adf2_df,'./output/diff ADF')"
   ]
  },
  {
   "cell_type": "markdown",
   "metadata": {},
   "source": [
    "***"
   ]
  },
  {
   "cell_type": "markdown",
   "metadata": {},
   "source": [
    " #### 2. （类方法）`Voutput.tbl2csv(Table, Filename)`:\n",
    "**参数：** \n",
    "**Table：** 输入数据应为SimpleTable格式，可为以下几种：\n",
    "\n",
    "- var_mod.model.select_order().summary() （VAR模型的信息准则）\n",
    "- vecm_mod.summary().tables[i] （VECM回归报告特定表格）\n",
    "\n",
    "**Filename：** 可以包含路径，不可包含后缀\n",
    "\n",
    "**输出：** 单独的CSV文件\n"
   ]
  },
  {
   "cell_type": "code",
   "execution_count": 30,
   "metadata": {},
   "outputs": [],
   "source": [
    "#输入数据应为SimpleTable格式，可为以下几种：\n",
    "# var_mod.model.select_order().summary() （VAR模型的信息准则）\n",
    "# vecm_mod.summary().tables[i] （VECM回归报告特定表格）\n",
    "class tbl2csv():\n",
    "    def __init__(self,table,filename):\n",
    "        ispath_exist('./output')\n",
    "        self.table=table\n",
    "        self.filename=filename\n",
    "        self.tbl2pd()\n",
    "\n",
    "    def tbl2pd(self):\n",
    "        tbl_list=list(self.table)\n",
    "        df_tbl=pandas.DataFrame(tbl_list)\n",
    "        df_tbl.to_csv(self.filename+'.csv',encoding='utf_8_sig',index=False, header=False)"
   ]
  },
  {
   "cell_type": "markdown",
   "metadata": {},
   "source": [
    "**演示**："
   ]
  },
  {
   "cell_type": "code",
   "execution_count": 41,
   "metadata": {},
   "outputs": [
    {
     "data": {
      "text/plain": [
       "statsmodels.iolib.table.SimpleTable"
      ]
     },
     "execution_count": 41,
     "metadata": {},
     "output_type": "execute_result"
    }
   ],
   "source": [
    "type(ic)"
   ]
  },
  {
   "cell_type": "code",
   "execution_count": 33,
   "metadata": {},
   "outputs": [
    {
     "data": {
      "text/plain": [
       "<__main__.tbl2csv at 0x192835b6a90>"
      ]
     },
     "execution_count": 33,
     "metadata": {},
     "output_type": "execute_result"
    }
   ],
   "source": [
    "tbl2csv(ic,'./output/VAR information riterion')"
   ]
  },
  {
   "cell_type": "markdown",
   "metadata": {},
   "source": [
    "***"
   ]
  },
  {
   "cell_type": "markdown",
   "metadata": {},
   "source": [
    "#### 3. （函数方法）`Voutput.vecm2csv(Summary, Filename)`:\n",
    "输出VECM模型的回归报告\n",
    "**参数：** \n",
    "**Summary：** 输入数据应为Summary格式，可为：\n",
    "\n",
    "- statsmodels.iolib.summary.Summary VECM回归报告\n",
    "\n",
    "**Filename：** 可以包含路径，不可包含后缀\n",
    "\n",
    "**输出：** 单独的CSV文件"
   ]
  },
  {
   "cell_type": "code",
   "execution_count": 39,
   "metadata": {},
   "outputs": [],
   "source": [
    "# 输入数据应为Summary格式，可为：\n",
    "# statsmodels.iolib.summary.Summary （VECM回归报告）\n",
    "def vecm2csv(summary,filename):\n",
    "    data=summary.as_csv()\n",
    "    with open(filename+'.csv', 'a') as file_handle:\n",
    "        file_handle.write(data)  # 写入\n",
    "        file_handle.write('\\n')"
   ]
  },
  {
   "cell_type": "markdown",
   "metadata": {},
   "source": [
    "**演示**："
   ]
  },
  {
   "cell_type": "code",
   "execution_count": 45,
   "metadata": {},
   "outputs": [
    {
     "data": {
      "text/plain": [
       "statsmodels.iolib.summary.Summary"
      ]
     },
     "execution_count": 45,
     "metadata": {},
     "output_type": "execute_result"
    }
   ],
   "source": [
    "type(vecm_mod.summary())"
   ]
  },
  {
   "cell_type": "code",
   "execution_count": 38,
   "metadata": {},
   "outputs": [],
   "source": [
    "vecm2csv(vecm_mod.summary(),'./output/VECM')"
   ]
  },
  {
   "cell_type": "markdown",
   "metadata": {},
   "source": [
    "***"
   ]
  },
  {
   "cell_type": "markdown",
   "metadata": {},
   "source": [
    " #### 4. （类方法）`vp.irf2csv(irf_obj, Foldname)`:\n",
    "输出VAR模型脉冲响应图的数据点\n",
    "**参数：** \n",
    "**irf_obj：** 目标对象为irf = var_mod.irf()，为以下数据类型：\n",
    "\n",
    "- statsmodels.tsa.vector_ar.irf.IRAnalysis\n",
    "\n",
    "**Foldname：** 由于输出多个文件，因此参数为文件夹名，写法和文件相同，最后不以/结尾\n",
    "\n",
    "**输出：** \n",
    "两个CSV文件，一个为脉冲相应图数据点，另一个为相应的标准差"
   ]
  },
  {
   "cell_type": "code",
   "execution_count": 46,
   "metadata": {},
   "outputs": [],
   "source": [
    "# 目标对象为irf = var_mod.irf()，为以下数据类型：\n",
    "# statsmodels.tsa.vector_ar.irf.IRAnalysis\n",
    "class irf2csv():  # 输出脉冲响应图数据\n",
    "    def __init__(self, irf_obj, foldname):\n",
    "        self.irf_obj = irf_obj\n",
    "        self.foldname = foldname\n",
    "        ispath_exist(self.foldname)\n",
    "        self.get_names()\n",
    "        self.irf_stderr()\n",
    "\n",
    "    def irf_stderr(self):   #分别输出数据点和标准差\n",
    "        self.irf_array=self.irf_obj.irfs\n",
    "        datapoint=self.irf_array2df(self.irf_array)\n",
    "        self.irf_df2csv(datapoint,'irf_datapoint')\n",
    "\n",
    "        self.stderr_array=self.irf_obj.stderr()\n",
    "        stderror = self.irf_array2df(self.irf_array)\n",
    "        self.irf_df2csv(stderror, 'irf_stderror')\n",
    "\n",
    "    def get_names(self):\n",
    "        self.namelist=list()\n",
    "        names=self.irf_obj.model.names  #变量名，查源码statsmodels/statsmodels/tsa/vector_ar/irf.py得到\n",
    "        for i in names:\n",
    "            temp1=str()\n",
    "            temp1=i+'-->'\n",
    "            for j in names:\n",
    "                temp2=str()\n",
    "                temp3=str()\n",
    "                temp2=j\n",
    "                temp3=temp1+temp2\n",
    "                temp2=''\n",
    "                self.namelist.append(temp3)\n",
    "\n",
    "    def mergelist(self, array):  # 把多个array合并为一个list\n",
    "        merged = list()\n",
    "        for i in range(len(array)):\n",
    "            for j in list(array[i]):  # 把ndarray转为list\n",
    "                merged.append(j)\n",
    "        return merged\n",
    "\n",
    "    def irf_array2df(self,input_array):\n",
    "        self.array=input_array\n",
    "        graphic_list = list()\n",
    "        dot_list = list()  # 按图像顺序记录最终点\n",
    "        for i in self.array:\n",
    "            graphic_list.append(i)\n",
    "        graph_number = len(self.mergelist(graphic_list[0]))\n",
    "        for index in range(graph_number):\n",
    "            temp = list()\n",
    "            for j in graphic_list:  # 获得一个图像的所有点\n",
    "                temp.append(self.mergelist(j)[index])\n",
    "            dot_list.append(temp)\n",
    "        self.dot_df = pandas.DataFrame(dot_list,dtype=numpy.float)\n",
    "        return self.dot_df\n",
    "\n",
    "    def irf_df2csv(self,input_df,category):\n",
    "        input_df.insert(0,'冲击顺序',self.namelist)\n",
    "        input_df.to_csv(self.foldname+'/'+category+'.csv',encoding='utf_8_sig',index=False, header=True)  # 输出至csv"
   ]
  },
  {
   "cell_type": "markdown",
   "metadata": {},
   "source": [
    "**演示**："
   ]
  },
  {
   "cell_type": "code",
   "execution_count": 47,
   "metadata": {},
   "outputs": [
    {
     "data": {
      "text/plain": [
       "statsmodels.tsa.vector_ar.irf.IRAnalysis"
      ]
     },
     "execution_count": 47,
     "metadata": {},
     "output_type": "execute_result"
    }
   ],
   "source": [
    "type(irf)"
   ]
  },
  {
   "cell_type": "code",
   "execution_count": 48,
   "metadata": {},
   "outputs": [
    {
     "data": {
      "text/plain": [
       "<__main__.irf2csv at 0x19280123b80>"
      ]
     },
     "execution_count": 48,
     "metadata": {},
     "output_type": "execute_result"
    }
   ],
   "source": [
    "irf2csv(irf,'./output/IRF')"
   ]
  },
  {
   "cell_type": "markdown",
   "metadata": {},
   "source": [
    "***"
   ]
  },
  {
   "cell_type": "markdown",
   "metadata": {},
   "source": [
    " #### 5. （类方法）`vp.fevd2csv(fevd_obj, Foldname)`:\n",
    "继承父类vp.irf2csv\n",
    "输出VAR模型预测误差方差的数据\n",
    "**参数：** \n",
    "**fevd_obj：** 目标对象为irf = var_mod.fevd()，为以下数据类型：\n",
    "\n",
    "- statsmodels.tsa.vector_ar.var_model.FEVD （VAR模型预测误差方差）\n",
    "\n",
    "**Foldname：** 由于输出多个文件，因此参数为文件夹名，写法和文件相同，最后不以/结尾\n",
    "\n",
    "**输出：** \n",
    "多个CSV文件，每一个都以被解释变量结尾，内部为它与其他变量的方差误差数据"
   ]
  },
  {
   "cell_type": "code",
   "execution_count": 49,
   "metadata": {},
   "outputs": [],
   "source": [
    "# 继承父类irf2csv\n",
    "# 输入数据应为FEVD格式，可为：\n",
    "# statsmodels.tsa.vector_ar.var_model.FEVD （VAR模型预测误差方差）\n",
    "class fevd2csv(irf2csv):\n",
    "    def __init__(self, fevd_obj, foldname):\n",
    "        self.fevd_obj = fevd_obj\n",
    "        self.foldname = foldname\n",
    "        ispath_exist(self.foldname)\n",
    "        self.get_names()\n",
    "        self.fevd_array2df()\n",
    "\n",
    "    def get_names(self):\n",
    "        self.namelist=self.fevd_obj.names\n",
    "\n",
    "    def fevd_df2csv(self,df,name):\n",
    "        isExists = os.path.exists(self.foldname)\n",
    "        if not isExists:\n",
    "            os.makedirs(self.foldname)\n",
    "        df.to_csv(self.foldname+'/'+name+'.csv',encoding='utf_8_sig',index=True, header=True)  # 输出至csv\n",
    "\n",
    "    def fevd_array2df(self):\n",
    "        fevd_arrays=self.fevd_obj.decomp\n",
    "        for i in range(len(fevd_arrays)):\n",
    "            name=self.namelist[i]   #被解释变量名称\n",
    "            array=fevd_arrays[i]    #单张图数据量：期数x变量数\n",
    "            dec_df = pandas.DataFrame(array)\n",
    "            dec_df.columns=self.namelist\n",
    "            self.fevd_df2csv(dec_df,name)"
   ]
  },
  {
   "cell_type": "markdown",
   "metadata": {},
   "source": [
    "**演示**："
   ]
  },
  {
   "cell_type": "code",
   "execution_count": 51,
   "metadata": {},
   "outputs": [
    {
     "data": {
      "text/plain": [
       "statsmodels.tsa.vector_ar.var_model.FEVD"
      ]
     },
     "execution_count": 51,
     "metadata": {},
     "output_type": "execute_result"
    }
   ],
   "source": [
    "type(fevd)"
   ]
  },
  {
   "cell_type": "code",
   "execution_count": 53,
   "metadata": {},
   "outputs": [
    {
     "data": {
      "text/plain": [
       "<__main__.fevd2csv at 0x1928210ae50>"
      ]
     },
     "execution_count": 53,
     "metadata": {},
     "output_type": "execute_result"
    }
   ],
   "source": [
    "fevd2csv(fevd,'./output/FEVD dataset')"
   ]
  },
  {
   "cell_type": "markdown",
   "metadata": {},
   "source": [
    "***"
   ]
  },
  {
   "cell_type": "markdown",
   "metadata": {},
   "source": [
    " #### 6. （函数方法）`vp.ols2latex(Summary, Foldname)`:\n",
    "输出OLS模型的回归报告（Latex格式）\n",
    "**参数：** \n",
    "**Summary：** 输入数据应为Summary格式，可为：\n",
    "\n",
    "- statsmodels.iolib.summary.Summary OLS回归报告\n",
    "\n",
    "**Foldname：** 对于多次OLS回归，生成多份OLS回归报告于同一个文件夹，最后不以/结尾\n",
    "\n",
    "**输出：** 多份TXT文档\n"
   ]
  },
  {
   "cell_type": "code",
   "execution_count": 20,
   "metadata": {},
   "outputs": [],
   "source": [
    "# 输入数据应为Summary格式，可为：\n",
    "# statsmodels.iolib.summary.Summary （OLS/VECM回归报告）\n",
    "def ols2latex(summary,foldname):\n",
    "    fold=foldname\n",
    "    ispath_exist(fold)\n",
    "    filename=pandas.DataFrame(summary.tables[0])[1][0]\n",
    "    data=summary.as_latex()\n",
    "    with open(fold+'/'+str(filename)+'.txt', 'a') as file_handle:\n",
    "        file_handle.write(data)  # 写入\n",
    "        file_handle.write('\\n')"
   ]
  },
  {
   "cell_type": "markdown",
   "metadata": {},
   "source": [
    "**演示：**"
   ]
  },
  {
   "cell_type": "code",
   "execution_count": 27,
   "metadata": {},
   "outputs": [],
   "source": [
    "def olsre(df):\n",
    "    olsr=list()\n",
    "    for i in df.columns:\n",
    "        y=df[i]\n",
    "        x=df.drop([i],axis=1)\n",
    "        ols2latex(ols(x,y),'./output/OLS')\n",
    "    return olsr"
   ]
  },
  {
   "cell_type": "code",
   "execution_count": 28,
   "metadata": {},
   "outputs": [],
   "source": [
    "diff_fin_df[\"中日历史与抗战认识问题\"]=fin_df.iloc[-1,4]"
   ]
  },
  {
   "cell_type": "code",
   "execution_count": 29,
   "metadata": {},
   "outputs": [
    {
     "data": {
      "text/plain": [
       "[]"
      ]
     },
     "execution_count": 29,
     "metadata": {},
     "output_type": "execute_result"
    }
   ],
   "source": [
    "olsre(diff_fin_df)"
   ]
  },
  {
   "cell_type": "markdown",
   "metadata": {},
   "source": [
    "***"
   ]
  },
  {
   "cell_type": "markdown",
   "metadata": {},
   "source": [
    "#### 7. （函数方法）`vp.vecm2latex(Summary, Filename)`:\n",
    "输出VECM模型的回归报告（Latex格式）\n",
    "**参数：** \n",
    "**Summary：** 输入数据应为Summary格式，可为：\n",
    "\n",
    "- statsmodels.iolib.summary.Summary VECM回归报告\n",
    "\n",
    "**Filename：** 可以包含路径，不可包含后缀\n",
    "\n",
    "**输出：** 单独的TXT文件\n"
   ]
  },
  {
   "cell_type": "code",
   "execution_count": 54,
   "metadata": {},
   "outputs": [],
   "source": [
    "def vecm2latex(summary,filename):\n",
    "    data=summary.as_latex()\n",
    "    ispath_exist('./output')\n",
    "    with open(filename+'.txt', 'a') as file_handle:\n",
    "        file_handle.write(data)  # 写入\n",
    "        file_handle.write('\\n')"
   ]
  },
  {
   "cell_type": "markdown",
   "metadata": {},
   "source": [
    "**演示：**"
   ]
  },
  {
   "cell_type": "code",
   "execution_count": 45,
   "metadata": {},
   "outputs": [
    {
     "data": {
      "text/plain": [
       "statsmodels.iolib.summary.Summary"
      ]
     },
     "execution_count": 45,
     "metadata": {},
     "output_type": "execute_result"
    }
   ],
   "source": [
    "type(vecm_mod.summary())"
   ]
  },
  {
   "cell_type": "code",
   "execution_count": 56,
   "metadata": {},
   "outputs": [],
   "source": [
    "vecm2latex(vecm_mod.summary(),'./output/VECM')"
   ]
  }
 ],
 "metadata": {
  "kernelspec": {
   "display_name": "Python 3",
   "language": "python",
   "name": "python3"
  },
  "language_info": {
   "codemirror_mode": {
    "name": "ipython",
    "version": 3
   },
   "file_extension": ".py",
   "mimetype": "text/x-python",
   "name": "python",
   "nbconvert_exporter": "python",
   "pygments_lexer": "ipython3",
   "version": "3.8.1"
  }
 },
 "nbformat": 4,
 "nbformat_minor": 4
}
